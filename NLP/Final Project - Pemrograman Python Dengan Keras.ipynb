{
 "cells": [
  {
   "cell_type": "markdown",
   "id": "37b1905a",
   "metadata": {},
   "source": [
    "## **Import Library**"
   ]
  },
  {
   "cell_type": "code",
   "execution_count": 1,
   "id": "67cb10b9",
   "metadata": {},
   "outputs": [],
   "source": [
    "# !pip install emoji\n",
    "# !pip install transformer"
   ]
  },
  {
   "cell_type": "code",
   "execution_count": null,
   "id": "7fc26324",
   "metadata": {},
   "outputs": [],
   "source": [
    "import matplotlib.pyplot as plt\n",
    "import opendatasets as od\n",
    "import seaborn as sns\n",
    "import pandas as pd\n",
    "import tensorflow as tf\n",
    "\n",
    "import numpy as np\n",
    "import re\n",
    "import string\n",
    "import nltk\n",
    "\n",
    "from sklearn.model_selection import train_test_split\n",
    "from tensorflow.keras.preprocessing.text import Tokenizer\n",
    "from tensorflow.keras.preprocessing.sequence import pad_sequences\n",
    "from tensorflow.keras import Model, Sequential, callbacks\n",
    "from nltk.corpus import stopwords\n",
    "from matplotlib import style\n",
    "\n",
    "style.use(\"ggplot\")\n",
    "\n",
    "nltk.download('punkt')\n",
    "nltk.download('wordnet')\n",
    "nltk.download('stopwords')"
   ]
  },
  {
   "cell_type": "code",
   "execution_count": null,
   "id": "6a9e2d3f",
   "metadata": {},
   "outputs": [],
   "source": [
    "od.download(\"https://www.kaggle.com/datatattle/covid-19-nlp-text-classification\")"
   ]
  },
  {
   "cell_type": "markdown",
   "id": "a3a4d7cf",
   "metadata": {},
   "source": [
    "## **Exploratory Data Analysis**"
   ]
  },
  {
   "cell_type": "code",
   "execution_count": 4,
   "id": "ab6152d6",
   "metadata": {},
   "outputs": [
    {
     "name": "stdout",
     "output_type": "stream",
     "text": [
      "Jumlah Dataset : 41157\n",
      "\n"
     ]
    },
    {
     "data": {
      "text/html": [
       "<div>\n",
       "<style scoped>\n",
       "    .dataframe tbody tr th:only-of-type {\n",
       "        vertical-align: middle;\n",
       "    }\n",
       "\n",
       "    .dataframe tbody tr th {\n",
       "        vertical-align: top;\n",
       "    }\n",
       "\n",
       "    .dataframe thead th {\n",
       "        text-align: right;\n",
       "    }\n",
       "</style>\n",
       "<table border=\"1\" class=\"dataframe\">\n",
       "  <thead>\n",
       "    <tr style=\"text-align: right;\">\n",
       "      <th></th>\n",
       "      <th>UserName</th>\n",
       "      <th>ScreenName</th>\n",
       "      <th>Location</th>\n",
       "      <th>TweetAt</th>\n",
       "      <th>OriginalTweet</th>\n",
       "      <th>Sentiment</th>\n",
       "    </tr>\n",
       "  </thead>\n",
       "  <tbody>\n",
       "    <tr>\n",
       "      <th>4759</th>\n",
       "      <td>8558</td>\n",
       "      <td>53510</td>\n",
       "      <td>NaN</td>\n",
       "      <td>18-03-2020</td>\n",
       "      <td>Confirmed #coronavirus symptoms: advised by do...</td>\n",
       "      <td>Neutral</td>\n",
       "    </tr>\n",
       "    <tr>\n",
       "      <th>3576</th>\n",
       "      <td>7375</td>\n",
       "      <td>52327</td>\n",
       "      <td>Singapore</td>\n",
       "      <td>18-03-2020</td>\n",
       "      <td>@itvnews #Coronavirus idea: Should someone inv...</td>\n",
       "      <td>Positive</td>\n",
       "    </tr>\n",
       "    <tr>\n",
       "      <th>25413</th>\n",
       "      <td>29212</td>\n",
       "      <td>74164</td>\n",
       "      <td>Manchester, UK</td>\n",
       "      <td>31-03-2020</td>\n",
       "      <td>Fridge situation critical. Might have to ventu...</td>\n",
       "      <td>Extremely Negative</td>\n",
       "    </tr>\n",
       "    <tr>\n",
       "      <th>12926</th>\n",
       "      <td>16725</td>\n",
       "      <td>61677</td>\n",
       "      <td>Los Angeles, CA</td>\n",
       "      <td>21-03-2020</td>\n",
       "      <td>Covidiot (noun) /co-vid-ee-ut/\\r\\r\\nhoarders o...</td>\n",
       "      <td>Negative</td>\n",
       "    </tr>\n",
       "    <tr>\n",
       "      <th>23243</th>\n",
       "      <td>27042</td>\n",
       "      <td>71994</td>\n",
       "      <td>Kerala, India</td>\n",
       "      <td>25-03-2020</td>\n",
       "      <td>Both Kerala Govt amp NDA Govt Don t Have Money...</td>\n",
       "      <td>Extremely Negative</td>\n",
       "    </tr>\n",
       "  </tbody>\n",
       "</table>\n",
       "</div>"
      ],
      "text/plain": [
       "       UserName  ScreenName         Location     TweetAt  \\\n",
       "4759       8558       53510              NaN  18-03-2020   \n",
       "3576       7375       52327        Singapore  18-03-2020   \n",
       "25413     29212       74164   Manchester, UK  31-03-2020   \n",
       "12926     16725       61677  Los Angeles, CA  21-03-2020   \n",
       "23243     27042       71994    Kerala, India  25-03-2020   \n",
       "\n",
       "                                           OriginalTweet           Sentiment  \n",
       "4759   Confirmed #coronavirus symptoms: advised by do...             Neutral  \n",
       "3576   @itvnews #Coronavirus idea: Should someone inv...            Positive  \n",
       "25413  Fridge situation critical. Might have to ventu...  Extremely Negative  \n",
       "12926  Covidiot (noun) /co-vid-ee-ut/\\r\\r\\nhoarders o...            Negative  \n",
       "23243  Both Kerala Govt amp NDA Govt Don t Have Money...  Extremely Negative  "
      ]
     },
     "execution_count": 4,
     "metadata": {},
     "output_type": "execute_result"
    }
   ],
   "source": [
    "df_train = pd.read_csv(\"covid-19-nlp-text-classification/Corona_NLP_train.csv\", encoding='latin-1')\n",
    "print(f'Jumlah Dataset : {len(df_train)}\\n')\n",
    "df_train.sample(5)"
   ]
  },
  {
   "cell_type": "code",
   "execution_count": 5,
   "id": "bf0013bc",
   "metadata": {},
   "outputs": [
    {
     "data": {
      "text/html": [
       "<div>\n",
       "<style scoped>\n",
       "    .dataframe tbody tr th:only-of-type {\n",
       "        vertical-align: middle;\n",
       "    }\n",
       "\n",
       "    .dataframe tbody tr th {\n",
       "        vertical-align: top;\n",
       "    }\n",
       "\n",
       "    .dataframe thead th {\n",
       "        text-align: right;\n",
       "    }\n",
       "</style>\n",
       "<table border=\"1\" class=\"dataframe\">\n",
       "  <thead>\n",
       "    <tr style=\"text-align: right;\">\n",
       "      <th></th>\n",
       "      <th>UserName</th>\n",
       "      <th>ScreenName</th>\n",
       "      <th>Location</th>\n",
       "      <th>TweetAt</th>\n",
       "      <th>OriginalTweet</th>\n",
       "      <th>Sentiment</th>\n",
       "    </tr>\n",
       "  </thead>\n",
       "  <tbody>\n",
       "    <tr>\n",
       "      <th>24978</th>\n",
       "      <td>28777</td>\n",
       "      <td>73729</td>\n",
       "      <td>Ajman, United Arab Emirates</td>\n",
       "      <td>29-03-2020</td>\n",
       "      <td>Lulu hypermarket revises timings launches prio...</td>\n",
       "      <td>Neutral</td>\n",
       "    </tr>\n",
       "    <tr>\n",
       "      <th>9743</th>\n",
       "      <td>13542</td>\n",
       "      <td>58494</td>\n",
       "      <td>St. Louis * Cologne</td>\n",
       "      <td>20-03-2020</td>\n",
       "      <td>In the Covid-19 hysteria, I've learned a new G...</td>\n",
       "      <td>Extremely Negative</td>\n",
       "    </tr>\n",
       "    <tr>\n",
       "      <th>26719</th>\n",
       "      <td>30518</td>\n",
       "      <td>75470</td>\n",
       "      <td>Illinois</td>\n",
       "      <td>02-04-2020</td>\n",
       "      <td>Is this what you are waiting for How many more...</td>\n",
       "      <td>Positive</td>\n",
       "    </tr>\n",
       "    <tr>\n",
       "      <th>16774</th>\n",
       "      <td>20573</td>\n",
       "      <td>65525</td>\n",
       "      <td>Bremerton, WA</td>\n",
       "      <td>22-03-2020</td>\n",
       "      <td>New post ('$7 for lettuce is ridiculous': Frui...</td>\n",
       "      <td>Extremely Negative</td>\n",
       "    </tr>\n",
       "    <tr>\n",
       "      <th>5983</th>\n",
       "      <td>9782</td>\n",
       "      <td>54734</td>\n",
       "      <td>Norwich, England</td>\n",
       "      <td>19-03-2020</td>\n",
       "      <td>Coronavirus: What's your #supermarket doing to...</td>\n",
       "      <td>Extremely Negative</td>\n",
       "    </tr>\n",
       "  </tbody>\n",
       "</table>\n",
       "</div>"
      ],
      "text/plain": [
       "       UserName  ScreenName                     Location     TweetAt  \\\n",
       "24978     28777       73729  Ajman, United Arab Emirates  29-03-2020   \n",
       "9743      13542       58494          St. Louis * Cologne  20-03-2020   \n",
       "26719     30518       75470                     Illinois  02-04-2020   \n",
       "16774     20573       65525                Bremerton, WA  22-03-2020   \n",
       "5983       9782       54734             Norwich, England  19-03-2020   \n",
       "\n",
       "                                           OriginalTweet           Sentiment  \n",
       "24978  Lulu hypermarket revises timings launches prio...             Neutral  \n",
       "9743   In the Covid-19 hysteria, I've learned a new G...  Extremely Negative  \n",
       "26719  Is this what you are waiting for How many more...            Positive  \n",
       "16774  New post ('$7 for lettuce is ridiculous': Frui...  Extremely Negative  \n",
       "5983   Coronavirus: What's your #supermarket doing to...  Extremely Negative  "
      ]
     },
     "execution_count": 5,
     "metadata": {},
     "output_type": "execute_result"
    }
   ],
   "source": [
    "df_test = pd.read_csv(\"covid-19-nlp-text-classification/Corona_NLP_train.csv\", encoding='latin-1')\n",
    "df_test.sample(5)"
   ]
  },
  {
   "cell_type": "code",
   "execution_count": 6,
   "id": "e1af6613",
   "metadata": {},
   "outputs": [
    {
     "data": {
      "text/html": [
       "<div>\n",
       "<style scoped>\n",
       "    .dataframe tbody tr th:only-of-type {\n",
       "        vertical-align: middle;\n",
       "    }\n",
       "\n",
       "    .dataframe tbody tr th {\n",
       "        vertical-align: top;\n",
       "    }\n",
       "\n",
       "    .dataframe thead th {\n",
       "        text-align: right;\n",
       "    }\n",
       "</style>\n",
       "<table border=\"1\" class=\"dataframe\">\n",
       "  <thead>\n",
       "    <tr style=\"text-align: right;\">\n",
       "      <th></th>\n",
       "      <th>OriginalTweet</th>\n",
       "      <th>Sentiment</th>\n",
       "    </tr>\n",
       "  </thead>\n",
       "  <tbody>\n",
       "    <tr>\n",
       "      <th>0</th>\n",
       "      <td>@MeNyrbie @Phil_Gahan @Chrisitv https://t.co/i...</td>\n",
       "      <td>Neutral</td>\n",
       "    </tr>\n",
       "    <tr>\n",
       "      <th>1</th>\n",
       "      <td>advice Talk to your neighbours family to excha...</td>\n",
       "      <td>Positive</td>\n",
       "    </tr>\n",
       "    <tr>\n",
       "      <th>2</th>\n",
       "      <td>Coronavirus Australia: Woolworths to give elde...</td>\n",
       "      <td>Positive</td>\n",
       "    </tr>\n",
       "    <tr>\n",
       "      <th>3</th>\n",
       "      <td>My food stock is not the only one which is emp...</td>\n",
       "      <td>Positive</td>\n",
       "    </tr>\n",
       "    <tr>\n",
       "      <th>4</th>\n",
       "      <td>Me, ready to go at supermarket during the #COV...</td>\n",
       "      <td>Extremely Negative</td>\n",
       "    </tr>\n",
       "  </tbody>\n",
       "</table>\n",
       "</div>"
      ],
      "text/plain": [
       "                                       OriginalTweet           Sentiment\n",
       "0  @MeNyrbie @Phil_Gahan @Chrisitv https://t.co/i...             Neutral\n",
       "1  advice Talk to your neighbours family to excha...            Positive\n",
       "2  Coronavirus Australia: Woolworths to give elde...            Positive\n",
       "3  My food stock is not the only one which is emp...            Positive\n",
       "4  Me, ready to go at supermarket during the #COV...  Extremely Negative"
      ]
     },
     "execution_count": 6,
     "metadata": {},
     "output_type": "execute_result"
    }
   ],
   "source": [
    "df_train = df_train[['OriginalTweet', 'Sentiment']]\n",
    "df_train.head()"
   ]
  },
  {
   "cell_type": "code",
   "execution_count": 7,
   "id": "4bec51e8",
   "metadata": {},
   "outputs": [
    {
     "data": {
      "text/html": [
       "<div>\n",
       "<style scoped>\n",
       "    .dataframe tbody tr th:only-of-type {\n",
       "        vertical-align: middle;\n",
       "    }\n",
       "\n",
       "    .dataframe tbody tr th {\n",
       "        vertical-align: top;\n",
       "    }\n",
       "\n",
       "    .dataframe thead th {\n",
       "        text-align: right;\n",
       "    }\n",
       "</style>\n",
       "<table border=\"1\" class=\"dataframe\">\n",
       "  <thead>\n",
       "    <tr style=\"text-align: right;\">\n",
       "      <th></th>\n",
       "      <th>OriginalTweet</th>\n",
       "      <th>Sentiment</th>\n",
       "    </tr>\n",
       "  </thead>\n",
       "  <tbody>\n",
       "    <tr>\n",
       "      <th>0</th>\n",
       "      <td>@MeNyrbie @Phil_Gahan @Chrisitv https://t.co/i...</td>\n",
       "      <td>Neutral</td>\n",
       "    </tr>\n",
       "    <tr>\n",
       "      <th>1</th>\n",
       "      <td>advice Talk to your neighbours family to excha...</td>\n",
       "      <td>Positive</td>\n",
       "    </tr>\n",
       "    <tr>\n",
       "      <th>2</th>\n",
       "      <td>Coronavirus Australia: Woolworths to give elde...</td>\n",
       "      <td>Positive</td>\n",
       "    </tr>\n",
       "    <tr>\n",
       "      <th>3</th>\n",
       "      <td>My food stock is not the only one which is emp...</td>\n",
       "      <td>Positive</td>\n",
       "    </tr>\n",
       "    <tr>\n",
       "      <th>4</th>\n",
       "      <td>Me, ready to go at supermarket during the #COV...</td>\n",
       "      <td>Extremely Negative</td>\n",
       "    </tr>\n",
       "  </tbody>\n",
       "</table>\n",
       "</div>"
      ],
      "text/plain": [
       "                                       OriginalTweet           Sentiment\n",
       "0  @MeNyrbie @Phil_Gahan @Chrisitv https://t.co/i...             Neutral\n",
       "1  advice Talk to your neighbours family to excha...            Positive\n",
       "2  Coronavirus Australia: Woolworths to give elde...            Positive\n",
       "3  My food stock is not the only one which is emp...            Positive\n",
       "4  Me, ready to go at supermarket during the #COV...  Extremely Negative"
      ]
     },
     "execution_count": 7,
     "metadata": {},
     "output_type": "execute_result"
    }
   ],
   "source": [
    "df_test = df_test[['OriginalTweet', 'Sentiment']]\n",
    "df_test.head()"
   ]
  },
  {
   "cell_type": "code",
   "execution_count": 8,
   "id": "507ba07e",
   "metadata": {},
   "outputs": [
    {
     "data": {
      "image/png": "[encoded data removed]",
      "text/plain": [
       "<Figure size 720x432 with 1 Axes>"
      ]
     },
     "metadata": {},
     "output_type": "display_data"
    }
   ],
   "source": [
    "plt.figure(figsize=(10,6))\n",
    "sns.countplot(x='Sentiment', data=df_train)\n",
    "plt.show()"
   ]
  },
  {
   "cell_type": "markdown",
   "id": "bc41c9b3",
   "metadata": {},
   "source": [
    "## **Preprocessing Data**"
   ]
  },
  {
   "cell_type": "code",
   "execution_count": 9,
   "id": "b5cf68e8",
   "metadata": {},
   "outputs": [],
   "source": [
    "lemmatizer = nltk.stem.WordNetLemmatizer()\n",
    "stop_words = set(stopwords.words('english'))\n",
    "\n",
    "def cleansing(text):\n",
    "    # Memisahkan Kata Singkatan (Abbreviaton). Contoh won't -> will not \n",
    "    text = re.sub(r\"n\\'t\", \" not\", text)\n",
    "    text = re.sub(r\"\\'re\", \" are\", text)\n",
    "    text = re.sub(r\"\\'s\", \" is\", text)\n",
    "    text = re.sub(r\"\\'d\", \" would\", text)\n",
    "    text = re.sub(r\"\\'ll\", \" will\", text)\n",
    "    text = re.sub(r\"\\'t\", \" not\", text)\n",
    "    text = re.sub(r\"\\'ve\", \" have\", text)\n",
    "    text = re.sub(r\"\\'m\", \" am\", text)\n",
    "\n",
    "    # Mengubah setiap kata menjadi lowercase\n",
    "    text =  text.lower() \n",
    "\n",
    "    # Menghapus Link Dengan Pattern http/https dan www\n",
    "    text = re.sub(r'http\\S+', '', text)\n",
    "    text = re.sub('(@\\w+|#\\w+)', '', text)\n",
    "\n",
    "    # Menghapus Tag HTML\n",
    "    text = re.sub('<.*?>', '', text)\n",
    "\n",
    "    # Menghapus Tanda Baca Seperti Titik Dan Koma\n",
    "    text = text.translate(str.maketrans(' ', ' ', string.punctuation))\n",
    "\n",
    "    # Menghapus Karakter Selain Huruf a-z dan A-Z\n",
    "    text = re.sub('[^a-zA-Z]', ' ', text)\n",
    "\n",
    "    # Mengganti baris baru (enter) dengan spasi\n",
    "    text = re.sub(\"\\n\", \" \", text)\n",
    "\n",
    "    # Menghapus Karakter Berulang (Contoh: Horeeee!!!! menjadi Hore!)\n",
    "    text = re.sub(r'(\\w)(\\1{2,})', r\"\\1\", text)\n",
    "\n",
    "    # Menghapus 1 Karakter Terpisah\n",
    "    text = re.sub(r\"\\b[a-zA-Z]\\b\", \"\", text)\n",
    "\n",
    "    # Menghapus Spasi Yang Lebih Dari Satu\n",
    "    text = re.sub('(s{2,})', ' ', text)\n",
    "    \n",
    "    # Menghapus kata yang mengandung judul topik dan kata yang terdapat pada stopwords nltk \n",
    "    temp_text_split = []\n",
    "    text_split = text.split(' ')\n",
    "\n",
    "    for i in range(len(text_split)):\n",
    "        if text_split[i] not in stop_words and len(text_split) > 3:\n",
    "            temp_text_split.append(text_split[i])\n",
    "    \n",
    "    temp_text_split = list(set(temp_text_split))\n",
    "    text = ' '.join(temp_text_split)\n",
    "    \n",
    "    # Mengembalikan Hasil Preprocessing Text\n",
    "    return str.lstrip(text)\n",
    "\n",
    "\n",
    "df_train['text'] = df_train['OriginalTweet'].apply(cleansing)\n",
    "df_test['text'] = df_test['OriginalTweet'].apply(cleansing)"
   ]
  },
  {
   "cell_type": "code",
   "execution_count": 10,
   "id": "364a9c01",
   "metadata": {},
   "outputs": [
    {
     "data": {
      "text/plain": [
       "array(['think week bankruptcy gotten control shopping past waived get new jordan online way',\n",
       "       'ny grocery current hudson state store valley',\n",
       "       'week stores closed us coronavirus',\n",
       "       'first grocery times higher come allow good store preference elderly risk move people given local',\n",
       "       'rid huh anywhere catch soon buy gotten perfect ca really city prices time due house drop depending also market break estimated covid job housing millenials even'],\n",
       "      dtype=object)"
      ]
     },
     "execution_count": 10,
     "metadata": {},
     "output_type": "execute_result"
    }
   ],
   "source": [
    "df_train['text'].sample(5).values"
   ]
  },
  {
   "cell_type": "code",
   "execution_count": 71,
   "id": "864abe7c",
   "metadata": {},
   "outputs": [
    {
     "data": {
      "image/png": "[encoded data removed]",
      "text/plain": [
       "<Figure size 720x360 with 1 Axes>"
      ]
     },
     "metadata": {},
     "output_type": "display_data"
    }
   ],
   "source": [
    "plt.figure(figsize=(10, 5))\n",
    "sns.histplot([len(s) for s in df_train.text], bins=50)\n",
    "plt.title('Sentence Length')\n",
    "plt.show()"
   ]
  },
  {
   "cell_type": "code",
   "execution_count": 12,
   "id": "74e2cb2e",
   "metadata": {},
   "outputs": [],
   "source": [
    "map_categorical = {\n",
    "    \"Neutral\" : 0, \n",
    "    \"Positive\": 1, \n",
    "    \"Extremely Positive\": 2, \n",
    "    \"Negative\": 3, \n",
    "    \"Extremely Negative\": 4\n",
    "}\n",
    "\n",
    "df_test[\"label\"] = df_test[\"Sentiment\"].map(map_categorical)\n",
    "df_train[\"label\"] = df_train[\"Sentiment\"].map(map_categorical)"
   ]
  },
  {
   "cell_type": "code",
   "execution_count": 13,
   "id": "80ff521b",
   "metadata": {},
   "outputs": [],
   "source": [
    "df_test.drop(columns=[\"OriginalTweet\", \"Sentiment\"], axis=1, inplace=True)\n",
    "df_train.drop(columns=[\"OriginalTweet\", \"Sentiment\"], axis=1, inplace=True)"
   ]
  },
  {
   "cell_type": "code",
   "execution_count": 14,
   "id": "d3da275f",
   "metadata": {},
   "outputs": [
    {
     "name": "stdout",
     "output_type": "stream",
     "text": [
      "GPU 0: A100-SXM4-40GB (UUID: GPU-42307e29-459e-0f8a-4ec7-a32ddbc65184)\n"
     ]
    }
   ],
   "source": [
    "!nvidia-smi -L"
   ]
  },
  {
   "cell_type": "markdown",
   "id": "cec89c09",
   "metadata": {},
   "source": [
    "## **Tokenisasi Dataset**"
   ]
  },
  {
   "cell_type": "code",
   "execution_count": 35,
   "id": "aeceb337",
   "metadata": {},
   "outputs": [
    {
     "data": {
      "text/plain": [
       "array([[    0,     0,     0, ...,     0,     0,     0],\n",
       "       [    0,     0,     0, ...,   848,   754,   387],\n",
       "       [    0,     0,     0, ...,  1563,    71,    20],\n",
       "       ...,\n",
       "       [    0,     0,     0, ..., 35612,    15,    42],\n",
       "       [    0,     0,     0, ...,  3769,    26,   572],\n",
       "       [    0,     0,     0, ...,   126,   268,    87]], dtype=int32)"
      ]
     },
     "execution_count": 35,
     "metadata": {},
     "output_type": "execute_result"
    }
   ],
   "source": [
    "max_features = 100000\n",
    "\n",
    "token = Tokenizer(num_words=max_features, split = ' ')\n",
    "token.fit_on_texts(df_train['text'].values)\n",
    "\n",
    "x = token.texts_to_sequences(df_train['text'].values)\n",
    "x = pad_sequences(x, maxlen=50, padding='pre')\n",
    "x"
   ]
  },
  {
   "cell_type": "code",
   "execution_count": 36,
   "id": "e888f404",
   "metadata": {},
   "outputs": [],
   "source": [
    "y = pd.get_dummies(df_train['label']).values"
   ]
  },
  {
   "cell_type": "markdown",
   "id": "06f665eb",
   "metadata": {},
   "source": [
    "## **Train Test Split**"
   ]
  },
  {
   "cell_type": "code",
   "execution_count": 37,
   "id": "b63fe7d7",
   "metadata": {},
   "outputs": [],
   "source": [
    "from sklearn.model_selection import train_test_split\n",
    "\n",
    "x_train, x_val, y_train, y_val = train_test_split(x, y, test_size=0.2, random_state=0, stratify=df_train['label'])"
   ]
  },
  {
   "cell_type": "markdown",
   "id": "79195ccb",
   "metadata": {},
   "source": [
    "## **Membuat Model LSTM**"
   ]
  },
  {
   "cell_type": "code",
   "execution_count": 38,
   "id": "de4d32c3",
   "metadata": {},
   "outputs": [],
   "source": [
    "from keras.models import Sequential\n",
    "from keras.layers import Embedding, Dense, LSTM, Dropout, Bidirectional"
   ]
  },
  {
   "cell_type": "code",
   "execution_count": 39,
   "id": "635d8647",
   "metadata": {},
   "outputs": [
    {
     "name": "stdout",
     "output_type": "stream",
     "text": [
      "Model: \"sequential_7\"\n",
      "_________________________________________________________________\n",
      " Layer (type)                Output Shape              Param #   \n",
      "=================================================================\n",
      " embedding_3 (Embedding)     (None, 50, 128)           12800000  \n",
      "                                                                 \n",
      " bidirectional_3 (Bidirectio  (None, 1000)             2516000   \n",
      " nal)                                                            \n",
      "                                                                 \n",
      " dense_9 (Dense)             (None, 256)               256256    \n",
      "                                                                 \n",
      " dropout_6 (Dropout)         (None, 256)               0         \n",
      "                                                                 \n",
      " dense_10 (Dense)            (None, 512)               131584    \n",
      "                                                                 \n",
      " dropout_7 (Dropout)         (None, 512)               0         \n",
      "                                                                 \n",
      " dense_11 (Dense)            (None, 5)                 2565      \n",
      "                                                                 \n",
      "=================================================================\n",
      "Total params: 15,706,405\n",
      "Trainable params: 15,706,405\n",
      "Non-trainable params: 0\n",
      "_________________________________________________________________\n"
     ]
    }
   ],
   "source": [
    "model = Sequential()\n",
    "\n",
    "model=Sequential()\n",
    "model.add(Embedding(max_features, 128, input_length=50))\n",
    "model.add(Bidirectional(LSTM(500)))\n",
    "model.add(Dense(256, activation='relu'))\n",
    "model.add(Dropout(0.4))\n",
    "model.add(Dense(512, activation='relu'))\n",
    "model.add(Dropout(0.4))\n",
    "model.add(Dense(5,activation='softmax'))\n",
    "\n",
    "model.summary()"
   ]
  },
  {
   "cell_type": "code",
   "execution_count": 40,
   "id": "f2cdae18",
   "metadata": {},
   "outputs": [],
   "source": [
    "METRICS = [\n",
    "    tf.keras.metrics.CategoricalAccuracy(name='accuracy'),\n",
    "    tf.keras.metrics.Precision(name='precision'),\n",
    "    tf.keras.metrics.Recall(name='recall'),\n",
    "    tf.keras.metrics.AUC(name='auc'),\n",
    "]\n",
    "\n",
    "model.compile(\n",
    "    loss='categorical_crossentropy',\n",
    "    optimizer='adam',\n",
    "    metrics=METRICS\n",
    ")"
   ]
  },
  {
   "cell_type": "markdown",
   "id": "9ede748e",
   "metadata": {},
   "source": [
    "## **Train Model**"
   ]
  },
  {
   "cell_type": "code",
   "execution_count": 41,
   "id": "3a37db94",
   "metadata": {},
   "outputs": [
    {
     "name": "stdout",
     "output_type": "stream",
     "text": [
      "Epoch 1/50\n",
      "515/515 [==============================] - 8s 12ms/step - loss: 1.1239 - accuracy: 0.5298 - precision: 0.6881 - recall: 0.3347 - auc: 0.8358 - val_loss: 0.7839 - val_accuracy: 0.7081 - val_precision: 0.7441 - val_recall: 0.6589 - val_auc: 0.9216\n",
      "Epoch 2/50\n",
      "515/515 [==============================] - 5s 10ms/step - loss: 0.6213 - accuracy: 0.7778 - precision: 0.8007 - recall: 0.7406 - auc: 0.9498 - val_loss: 0.7238 - val_accuracy: 0.7430 - val_precision: 0.7647 - val_recall: 0.7102 - val_auc: 0.9340\n",
      "Epoch 3/50\n",
      "515/515 [==============================] - 5s 10ms/step - loss: 0.4237 - accuracy: 0.8588 - precision: 0.8747 - recall: 0.8385 - auc: 0.9752 - val_loss: 0.7874 - val_accuracy: 0.7300 - val_precision: 0.7479 - val_recall: 0.7060 - val_auc: 0.9281\n",
      "Epoch 4/50\n",
      "515/515 [==============================] - 5s 10ms/step - loss: 0.3137 - accuracy: 0.8968 - precision: 0.9125 - recall: 0.8826 - auc: 0.9858 - val_loss: 0.9322 - val_accuracy: 0.7194 - val_precision: 0.7382 - val_recall: 0.6945 - val_auc: 0.9153\n",
      "Epoch 5/50\n",
      "515/515 [==============================] - 5s 10ms/step - loss: 0.2378 - accuracy: 0.9219 - precision: 0.9364 - recall: 0.9094 - auc: 0.9914 - val_loss: 1.0006 - val_accuracy: 0.7269 - val_precision: 0.7393 - val_recall: 0.7099 - val_auc: 0.9133\n"
     ]
    }
   ],
   "source": [
    "early_stopping = callbacks.EarlyStopping(\n",
    "    monitor =\"val_loss\", \n",
    "    mode =\"min\", patience=3\n",
    ")\n",
    "\n",
    "history = model.fit(\n",
    "    x_train, y_train,\n",
    "    epochs=50, \n",
    "    validation_data=(x_val, y_val),\n",
    "    callbacks=[early_stopping], \n",
    "    batch_size = 64,\n",
    ")"
   ]
  },
  {
   "cell_type": "markdown",
   "id": "3263d3b4",
   "metadata": {},
   "source": [
    "## **Model Evaluation**"
   ]
  },
  {
   "cell_type": "code",
   "execution_count": 42,
   "id": "72214e04",
   "metadata": {},
   "outputs": [],
   "source": [
    "history = history.history"
   ]
  },
  {
   "cell_type": "code",
   "execution_count": 43,
   "id": "61cdd540",
   "metadata": {},
   "outputs": [
    {
     "data": {
      "image/png": "[encoded data removed]",
      "text/plain": [
       "<Figure size 432x288 with 1 Axes>"
      ]
     },
     "metadata": {},
     "output_type": "display_data"
    }
   ],
   "source": [
    "plt.plot(history['accuracy'], label=\"Accuracy\", marker = \"o\")\n",
    "plt.plot(history['val_accuracy'], label=\"Val Accuracy\", marker = \"o\")\n",
    "plt.xlabel(\"epoch\")\n",
    "plt.ylabel(\"value\")\n",
    "plt.legend()\n",
    "plt.show()"
   ]
  },
  {
   "cell_type": "code",
   "execution_count": 56,
   "id": "8e0f2049",
   "metadata": {},
   "outputs": [],
   "source": [
    "x_test = token.texts_to_sequences(df_test['text'])\n",
    "x_test = pad_sequences(x_test, maxlen=50, padding='pre')"
   ]
  },
  {
   "cell_type": "code",
   "execution_count": 57,
   "id": "a848a09f",
   "metadata": {},
   "outputs": [],
   "source": [
    "y_test = pd.get_dummies(df_test['label']).values"
   ]
  },
  {
   "cell_type": "code",
   "execution_count": 58,
   "id": "bbf418b7",
   "metadata": {},
   "outputs": [
    {
     "name": "stdout",
     "output_type": "stream",
     "text": [
      "1287/1287 [==============================] - 6s 4ms/step - loss: 0.3195 - accuracy: 0.9066 - precision: 0.9199 - recall: 0.8949 - auc: 0.9836\n"
     ]
    }
   ],
   "source": [
    "loss, accuracy, precision, recall, auc = model.evaluate(x_test, y_test)"
   ]
  },
  {
   "cell_type": "code",
   "execution_count": 65,
   "id": "23c10a8f",
   "metadata": {},
   "outputs": [],
   "source": [
    "predict = model.predict(x_test)\n",
    "predict = np.argmax(predict, axis=1)"
   ]
  },
  {
   "cell_type": "code",
   "execution_count": 69,
   "id": "7364fa7c",
   "metadata": {},
   "outputs": [
    {
     "data": {
      "image/png": "[encoded data removed]",
      "text/plain": [
       "<Figure size 648x432 with 2 Axes>"
      ]
     },
     "metadata": {},
     "output_type": "display_data"
    },
    {
     "name": "stdout",
     "output_type": "stream",
     "text": [
      "\n",
      "               precision    recall  f1-score   support\n",
      "\n",
      "           0       0.89      0.95      0.92      7202\n",
      "           1       0.92      0.89      0.90     11862\n",
      "           2       0.91      0.94      0.92      6367\n",
      "           3       0.91      0.86      0.88     10459\n",
      "           4       0.90      0.94      0.92      5267\n",
      "\n",
      "    accuracy                           0.91     41157\n",
      "   macro avg       0.90      0.92      0.91     41157\n",
      "weighted avg       0.91      0.91      0.91     41157\n",
      "\n"
     ]
    }
   ],
   "source": [
    "from sklearn.metrics import confusion_matrix,classification_report\n",
    "\n",
    "conf_matrix = confusion_matrix(predict, df_test['label'])\n",
    "\n",
    "plt.figure(figsize=(9, 6))\n",
    "sns.heatmap(\n",
    "    conf_matrix, \n",
    "    annot=True, \n",
    "    xticklabels=['Neutral', 'Positive', 'Extremely Positive', 'Negative', 'Extremely Negative'], \n",
    "    yticklabels=['Neutral', 'Positive', 'Extremely Positive', 'Negative', 'Extremely Negative'], \n",
    "    cmap='flare', fmt='d'\n",
    ")\n",
    "plt.show()\n",
    "\n",
    "print(\"\\n\", classification_report(predict, df_test['label']))"
   ]
  },
  {
   "cell_type": "code",
   "execution_count": null,
   "id": "83d9404f",
   "metadata": {},
   "outputs": [],
   "source": []
  }
 ],
 "metadata": {
  "kernelspec": {
   "display_name": "Python 3 (ipykernel)",
   "language": "python",
   "name": "python3"
  },
  "language_info": {
   "codemirror_mode": {
    "name": "ipython",
    "version": 3
   },
   "file_extension": ".py",
   "mimetype": "text/x-python",
   "name": "python",
   "nbconvert_exporter": "python",
   "pygments_lexer": "ipython3",
   "version": "3.8.12"
  }
 },
 "nbformat": 4,
 "nbformat_minor": 5
}
