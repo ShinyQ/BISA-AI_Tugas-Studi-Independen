{
 "cells": [
  {
   "cell_type": "markdown",
   "id": "92d7e70c",
   "metadata": {},
   "source": [
    "## **Import Library**"
   ]
  },
  {
   "cell_type": "code",
   "execution_count": null,
   "id": "be62f5b8",
   "metadata": {},
   "outputs": [],
   "source": [
    "import matplotlib.pyplot as plt\n",
    "import opendatasets as od\n",
    "import preprocessor as p\n",
    "import seaborn as sns\n",
    "import pandas as pd\n",
    "import tensorflow as tf\n",
    "import numpy as np\n",
    "import re\n",
    "import string\n",
    "import nltk\n",
    "\n",
    "from tensorflow.keras.layers.experimental.preprocessing import TextVectorization\n",
    "from nltk.corpus import stopwords\n",
    "from nltk.tokenize import word_tokenize\n",
    "from matplotlib import style\\\n",
    "style.use(\"ggplot\")\n",
    "\n",
    "nltk.download('punkt')\n",
    "nltk.download('wordnet')\n",
    "nltk.download('stopwords')"
   ]
  },
  {
   "cell_type": "code",
   "execution_count": 2,
   "id": "79b9fc07",
   "metadata": {},
   "outputs": [
    {
     "name": "stdout",
     "output_type": "stream",
     "text": [
      "Please provide your Kaggle credentials to download this dataset. Learn more: http://bit.ly/kaggle-creds\n",
      "Your Kaggle username:"
     ]
    },
    {
     "name": "stdin",
     "output_type": "stream",
     "text": [
      "  kurniadiahmadwijaya\n"
     ]
    },
    {
     "name": "stdout",
     "output_type": "stream",
     "text": [
      "Your Kaggle Key:"
     ]
    },
    {
     "name": "stdin",
     "output_type": "stream",
     "text": [
      "  ································\n"
     ]
    },
    {
     "name": "stderr",
     "output_type": "stream",
     "text": [
      "100%|██████████████████████████████████████████████████████████████████████████████████████████████████████████| 2.55M/2.55M [00:00<00:00, 19.7MB/s]"
     ]
    },
    {
     "name": "stdout",
     "output_type": "stream",
     "text": [
      "Downloading twitter-airline-sentiment.zip to ./twitter-airline-sentiment\n",
      "\n"
     ]
    },
    {
     "name": "stderr",
     "output_type": "stream",
     "text": [
      "\n"
     ]
    }
   ],
   "source": [
    "od.download(\"https://www.kaggle.com/crowdflower/twitter-airline-sentiment\")"
   ]
  },
  {
   "cell_type": "code",
   "execution_count": 209,
   "id": "607ff3ce",
   "metadata": {},
   "outputs": [
    {
     "name": "stdout",
     "output_type": "stream",
     "text": [
      "Jumlah Dataset : 14640\n",
      "\n"
     ]
    },
    {
     "data": {
      "text/html": [
       "<div>\n",
       "<style scoped>\n",
       "    .dataframe tbody tr th:only-of-type {\n",
       "        vertical-align: middle;\n",
       "    }\n",
       "\n",
       "    .dataframe tbody tr th {\n",
       "        vertical-align: top;\n",
       "    }\n",
       "\n",
       "    .dataframe thead th {\n",
       "        text-align: right;\n",
       "    }\n",
       "</style>\n",
       "<table border=\"1\" class=\"dataframe\">\n",
       "  <thead>\n",
       "    <tr style=\"text-align: right;\">\n",
       "      <th></th>\n",
       "      <th>tweet_id</th>\n",
       "      <th>airline_sentiment</th>\n",
       "      <th>airline_sentiment_confidence</th>\n",
       "      <th>negativereason</th>\n",
       "      <th>negativereason_confidence</th>\n",
       "      <th>airline</th>\n",
       "      <th>airline_sentiment_gold</th>\n",
       "      <th>name</th>\n",
       "      <th>negativereason_gold</th>\n",
       "      <th>retweet_count</th>\n",
       "      <th>text</th>\n",
       "      <th>tweet_coord</th>\n",
       "      <th>tweet_created</th>\n",
       "      <th>tweet_location</th>\n",
       "      <th>user_timezone</th>\n",
       "    </tr>\n",
       "  </thead>\n",
       "  <tbody>\n",
       "    <tr>\n",
       "      <th>1934</th>\n",
       "      <td>569514124490579969</td>\n",
       "      <td>neutral</td>\n",
       "      <td>0.6365</td>\n",
       "      <td>NaN</td>\n",
       "      <td>0.0000</td>\n",
       "      <td>United</td>\n",
       "      <td>NaN</td>\n",
       "      <td>roryfreeman87</td>\n",
       "      <td>NaN</td>\n",
       "      <td>0</td>\n",
       "      <td>@united with about 25 people trying to get on ...</td>\n",
       "      <td>[29.98872603, -95.3384666]</td>\n",
       "      <td>2015-02-22 07:08:42 -0800</td>\n",
       "      <td>california</td>\n",
       "      <td>Central Time (US &amp; Canada)</td>\n",
       "    </tr>\n",
       "    <tr>\n",
       "      <th>1537</th>\n",
       "      <td>569676535973744640</td>\n",
       "      <td>negative</td>\n",
       "      <td>0.6889</td>\n",
       "      <td>Customer Service Issue</td>\n",
       "      <td>0.3549</td>\n",
       "      <td>United</td>\n",
       "      <td>NaN</td>\n",
       "      <td>halestorm62</td>\n",
       "      <td>NaN</td>\n",
       "      <td>0</td>\n",
       "      <td>@united good try but @SouthwestAir got her her...</td>\n",
       "      <td>NaN</td>\n",
       "      <td>2015-02-22 17:54:04 -0800</td>\n",
       "      <td>NaN</td>\n",
       "      <td>Quito</td>\n",
       "    </tr>\n",
       "    <tr>\n",
       "      <th>12791</th>\n",
       "      <td>570021054015541248</td>\n",
       "      <td>negative</td>\n",
       "      <td>0.6659</td>\n",
       "      <td>Can't Tell</td>\n",
       "      <td>0.6659</td>\n",
       "      <td>American</td>\n",
       "      <td>NaN</td>\n",
       "      <td>djjohnpayne</td>\n",
       "      <td>NaN</td>\n",
       "      <td>0</td>\n",
       "      <td>@AmericanAir No. It does. You could not be mor...</td>\n",
       "      <td>NaN</td>\n",
       "      <td>2015-02-23 16:43:04 -0800</td>\n",
       "      <td>Las Vegas, NV</td>\n",
       "      <td>Pacific Time (US &amp; Canada)</td>\n",
       "    </tr>\n",
       "    <tr>\n",
       "      <th>5393</th>\n",
       "      <td>569149949989879808</td>\n",
       "      <td>negative</td>\n",
       "      <td>1.0000</td>\n",
       "      <td>Customer Service Issue</td>\n",
       "      <td>0.6879</td>\n",
       "      <td>Southwest</td>\n",
       "      <td>NaN</td>\n",
       "      <td>UnprovenTheory</td>\n",
       "      <td>NaN</td>\n",
       "      <td>0</td>\n",
       "      <td>@SouthwestAir Cancelled Flightled my flight wi...</td>\n",
       "      <td>NaN</td>\n",
       "      <td>2015-02-21 07:01:37 -0800</td>\n",
       "      <td>NaN</td>\n",
       "      <td>NaN</td>\n",
       "    </tr>\n",
       "    <tr>\n",
       "      <th>12964</th>\n",
       "      <td>569972777593262080</td>\n",
       "      <td>negative</td>\n",
       "      <td>1.0000</td>\n",
       "      <td>Cancelled Flight</td>\n",
       "      <td>1.0000</td>\n",
       "      <td>American</td>\n",
       "      <td>NaN</td>\n",
       "      <td>StephanSDalal</td>\n",
       "      <td>NaN</td>\n",
       "      <td>0</td>\n",
       "      <td>@AmericanAir Miami-PhL flight Cancelled Flight...</td>\n",
       "      <td>NaN</td>\n",
       "      <td>2015-02-23 13:31:14 -0800</td>\n",
       "      <td>NaN</td>\n",
       "      <td>NaN</td>\n",
       "    </tr>\n",
       "  </tbody>\n",
       "</table>\n",
       "</div>"
      ],
      "text/plain": [
       "                 tweet_id airline_sentiment  airline_sentiment_confidence  \\\n",
       "1934   569514124490579969           neutral                        0.6365   \n",
       "1537   569676535973744640          negative                        0.6889   \n",
       "12791  570021054015541248          negative                        0.6659   \n",
       "5393   569149949989879808          negative                        1.0000   \n",
       "12964  569972777593262080          negative                        1.0000   \n",
       "\n",
       "               negativereason  negativereason_confidence    airline  \\\n",
       "1934                      NaN                     0.0000     United   \n",
       "1537   Customer Service Issue                     0.3549     United   \n",
       "12791              Can't Tell                     0.6659   American   \n",
       "5393   Customer Service Issue                     0.6879  Southwest   \n",
       "12964        Cancelled Flight                     1.0000   American   \n",
       "\n",
       "      airline_sentiment_gold            name negativereason_gold  \\\n",
       "1934                     NaN   roryfreeman87                 NaN   \n",
       "1537                     NaN     halestorm62                 NaN   \n",
       "12791                    NaN     djjohnpayne                 NaN   \n",
       "5393                     NaN  UnprovenTheory                 NaN   \n",
       "12964                    NaN   StephanSDalal                 NaN   \n",
       "\n",
       "       retweet_count                                               text  \\\n",
       "1934               0  @united with about 25 people trying to get on ...   \n",
       "1537               0  @united good try but @SouthwestAir got her her...   \n",
       "12791              0  @AmericanAir No. It does. You could not be mor...   \n",
       "5393               0  @SouthwestAir Cancelled Flightled my flight wi...   \n",
       "12964              0  @AmericanAir Miami-PhL flight Cancelled Flight...   \n",
       "\n",
       "                      tweet_coord              tweet_created tweet_location  \\\n",
       "1934   [29.98872603, -95.3384666]  2015-02-22 07:08:42 -0800     california   \n",
       "1537                          NaN  2015-02-22 17:54:04 -0800            NaN   \n",
       "12791                         NaN  2015-02-23 16:43:04 -0800  Las Vegas, NV   \n",
       "5393                          NaN  2015-02-21 07:01:37 -0800            NaN   \n",
       "12964                         NaN  2015-02-23 13:31:14 -0800            NaN   \n",
       "\n",
       "                    user_timezone  \n",
       "1934   Central Time (US & Canada)  \n",
       "1537                        Quito  \n",
       "12791  Pacific Time (US & Canada)  \n",
       "5393                          NaN  \n",
       "12964                         NaN  "
      ]
     },
     "execution_count": 209,
     "metadata": {},
     "output_type": "execute_result"
    }
   ],
   "source": [
    "df = pd.read_csv(\"twitter-airline-sentiment/Tweets.csv\")\n",
    "print(f'Jumlah Dataset : {len(df)}\\n')\n",
    "df.sample(5)"
   ]
  },
  {
   "cell_type": "code",
   "execution_count": 210,
   "id": "d129a85c",
   "metadata": {},
   "outputs": [
    {
     "data": {
      "text/html": [
       "<div>\n",
       "<style scoped>\n",
       "    .dataframe tbody tr th:only-of-type {\n",
       "        vertical-align: middle;\n",
       "    }\n",
       "\n",
       "    .dataframe tbody tr th {\n",
       "        vertical-align: top;\n",
       "    }\n",
       "\n",
       "    .dataframe thead th {\n",
       "        text-align: right;\n",
       "    }\n",
       "</style>\n",
       "<table border=\"1\" class=\"dataframe\">\n",
       "  <thead>\n",
       "    <tr style=\"text-align: right;\">\n",
       "      <th></th>\n",
       "      <th>airline_sentiment</th>\n",
       "      <th>text</th>\n",
       "    </tr>\n",
       "  </thead>\n",
       "  <tbody>\n",
       "    <tr>\n",
       "      <th>0</th>\n",
       "      <td>neutral</td>\n",
       "      <td>@VirginAmerica What @dhepburn said.</td>\n",
       "    </tr>\n",
       "    <tr>\n",
       "      <th>1</th>\n",
       "      <td>positive</td>\n",
       "      <td>@VirginAmerica plus you've added commercials t...</td>\n",
       "    </tr>\n",
       "    <tr>\n",
       "      <th>2</th>\n",
       "      <td>neutral</td>\n",
       "      <td>@VirginAmerica I didn't today... Must mean I n...</td>\n",
       "    </tr>\n",
       "    <tr>\n",
       "      <th>3</th>\n",
       "      <td>negative</td>\n",
       "      <td>@VirginAmerica it's really aggressive to blast...</td>\n",
       "    </tr>\n",
       "    <tr>\n",
       "      <th>4</th>\n",
       "      <td>negative</td>\n",
       "      <td>@VirginAmerica and it's a really big bad thing...</td>\n",
       "    </tr>\n",
       "  </tbody>\n",
       "</table>\n",
       "</div>"
      ],
      "text/plain": [
       "  airline_sentiment                                               text\n",
       "0           neutral                @VirginAmerica What @dhepburn said.\n",
       "1          positive  @VirginAmerica plus you've added commercials t...\n",
       "2           neutral  @VirginAmerica I didn't today... Must mean I n...\n",
       "3          negative  @VirginAmerica it's really aggressive to blast...\n",
       "4          negative  @VirginAmerica and it's a really big bad thing..."
      ]
     },
     "execution_count": 210,
     "metadata": {},
     "output_type": "execute_result"
    }
   ],
   "source": [
    "df = df[['airline_sentiment', 'text']]\n",
    "df.head()"
   ]
  },
  {
   "cell_type": "code",
   "execution_count": 211,
   "id": "7d8d1194",
   "metadata": {},
   "outputs": [
    {
     "data": {
      "image/png": "[encoded data removed]",
      "text/plain": [
       "<Figure size 432x288 with 1 Axes>"
      ]
     },
     "metadata": {},
     "output_type": "display_data"
    }
   ],
   "source": [
    "sns.countplot(x='airline_sentiment', data=df)\n",
    "plt.show()"
   ]
  },
  {
   "cell_type": "markdown",
   "id": "79a7352e",
   "metadata": {},
   "source": [
    "## **Preprocessing Data**"
   ]
  },
  {
   "cell_type": "code",
   "execution_count": 212,
   "id": "11b6ca2a",
   "metadata": {},
   "outputs": [],
   "source": [
    "lemmatizer = nltk.stem.WordNetLemmatizer()\n",
    "stop_words = set(stopwords.words('english'))\n",
    "\n",
    "def cleansing(text):\n",
    "    # Memisahkan Kata Singkatan (Abbreviaton). Contoh won't -> will not \n",
    "    text = re.sub(r\"n\\'t\", \" not\", text)\n",
    "    text = re.sub(r\"\\'re\", \" are\", text)\n",
    "    text = re.sub(r\"\\'s\", \" is\", text)\n",
    "    text = re.sub(r\"\\'d\", \" would\", text)\n",
    "    text = re.sub(r\"\\'ll\", \" will\", text)\n",
    "    text = re.sub(r\"\\'t\", \" not\", text)\n",
    "    text = re.sub(r\"\\'ve\", \" have\", text)\n",
    "    text = re.sub(r\"\\'m\", \" am\", text)\n",
    "\n",
    "    # Mengubah setiap kata menjadi lowercase\n",
    "    text =  text.lower() \n",
    "\n",
    "    # Menghapus Link Dengan Pattern http/https dan www\n",
    "    text = re.sub(r'http\\S+', '', text)\n",
    "    text = re.sub('(@\\w+|#\\w+)', '', text)\n",
    "\n",
    "    # Menghapus Tag HTML\n",
    "    text = re.sub('<.*?>', '', text)\n",
    "\n",
    "    # Menghapus Tanda Baca Seperti Titik Dan Koma\n",
    "    text = text.translate(str.maketrans(' ', ' ', string.punctuation))\n",
    "\n",
    "    # Menghapus Karakter Selain Huruf a-z dan A-Z\n",
    "    text = re.sub('[^a-zA-Z]', ' ', text)\n",
    "\n",
    "    # Mengganti baris baru (enter) dengan spasi\n",
    "    text = re.sub(\"\\n\", \" \", text)\n",
    "\n",
    "    # Menghapus Karakter Berulang (Contoh: Horeeee!!!! menjadi Hore!)\n",
    "    text = re.sub(r'(\\w)(\\1{2,})', r\"\\1\", text)\n",
    "\n",
    "    # Menghapus 1 Karakter Terpisah\n",
    "    text = re.sub(r\"\\b[a-zA-Z]\\b\", \"\", text)\n",
    "\n",
    "    # Menghapus Spasi Yang Lebih Dari Satu\n",
    "    text = re.sub('(s{2,})', ' ', text)\n",
    "    \n",
    "    # Menghapus kata yang mengandung judul topik dan kata yang terdapat pada stopwords nltk \n",
    "    temp_text_split = []\n",
    "    text_split = text.split(' ')\n",
    "\n",
    "    for i in range(len(text_split)):\n",
    "        if text_split[i] not in stop_words and len(text_split) > 3:\n",
    "            temp_text_split.append(text_split[i])\n",
    "    \n",
    "    temp_text_split = list(set(temp_text_split))\n",
    "    text = ' '.join(temp_text_split)\n",
    "    \n",
    "    # Mengembalikan Hasil Preprocessing Text\n",
    "    return str.lstrip(text)\n",
    "\n",
    "\n",
    "df['text'] = df['text'].apply(cleansing)"
   ]
  },
  {
   "cell_type": "code",
   "execution_count": 213,
   "id": "692dfce8",
   "metadata": {},
   "outputs": [
    {
     "data": {
      "text/plain": [
       "array(['obviously tweet get computers making sarcasm people bots real like',\n",
       "       'united helping mexico terrible call attitude care lady office city take center hello',\n",
       "       'freaks cattle delay leaves surreal engers attendant treatment flight aircraft react pa aa',\n",
       "       'kind appreciate dm ur roberto code forward words confirmation',\n",
       "       'thanks conection catch',\n",
       "       'fees lake flight service waives refuses angry gives jana gold desk wrong premier salt acosta changes',\n",
       "       'xm get rid stations sirius hip guys hop', '',\n",
       "       'exact taking time good flighted cancelled delta runway flight claimed phl',\n",
       "       'anticipate flights tomorrow cancelled nashville flightlations thank'],\n",
       "      dtype=object)"
      ]
     },
     "execution_count": 213,
     "metadata": {},
     "output_type": "execute_result"
    }
   ],
   "source": [
    "df['text'].sample(10).values"
   ]
  },
  {
   "cell_type": "code",
   "execution_count": 214,
   "id": "aa2eca8e",
   "metadata": {},
   "outputs": [],
   "source": [
    "from keras.preprocessing.text import Tokenizer\n",
    "from keras.preprocessing.sequence import pad_sequences"
   ]
  },
  {
   "cell_type": "code",
   "execution_count": 215,
   "id": "0f3a17f0",
   "metadata": {},
   "outputs": [
    {
     "data": {
      "text/plain": [
       "array([[  0,   0,   0, ...,   0,   0, 124],\n",
       "       [  0,   0,   0, ..., 938, 107, 394],\n",
       "       [  0,   0,   0, ...,  32,  66,  67],\n",
       "       ...,\n",
       "       [  0,   0,   0, ...,  17, 153, 483],\n",
       "       [  0,   0,   0, ...,  50,   1, 211],\n",
       "       [  0,   0,   0, ...,   1, 782,  39]], dtype=int32)"
      ]
     },
     "execution_count": 215,
     "metadata": {},
     "output_type": "execute_result"
    }
   ],
   "source": [
    "max_features = 1000\n",
    "\n",
    "token = Tokenizer(num_words=max_features, split = ' ')\n",
    "token.fit_on_texts(df['text'].values)\n",
    "\n",
    "x = token.texts_to_sequences(df['text'].values)\n",
    "x = pad_sequences(x)\n",
    "x"
   ]
  },
  {
   "cell_type": "code",
   "execution_count": 216,
   "id": "0729793a",
   "metadata": {},
   "outputs": [],
   "source": [
    "y = pd.get_dummies(df['airline_sentiment']).values"
   ]
  },
  {
   "cell_type": "code",
   "execution_count": 217,
   "id": "046333b1",
   "metadata": {},
   "outputs": [],
   "source": [
    "from sklearn.model_selection import train_test_split\n",
    "\n",
    "x_train, x_test, y_train, y_test = train_test_split(x, y, test_size=0.2, random_state=42)"
   ]
  },
  {
   "cell_type": "markdown",
   "id": "06b8b5bc",
   "metadata": {},
   "source": [
    "## **Membuat Model LSTM**"
   ]
  },
  {
   "cell_type": "code",
   "execution_count": 218,
   "id": "8a07bf38",
   "metadata": {},
   "outputs": [],
   "source": [
    "from keras.layers import Dense, Embedding, LSTM, SpatialDropout1D, Dropout\n",
    "from keras.models import Sequential"
   ]
  },
  {
   "cell_type": "code",
   "execution_count": 219,
   "id": "fdd9532d",
   "metadata": {},
   "outputs": [
    {
     "name": "stdout",
     "output_type": "stream",
     "text": [
      "WARNING:tensorflow:Layer lstm_14 will not use cuDNN kernels since it doesn't meet the criteria. It will use a generic GPU kernel as fallback when running on GPU.\n",
      "Model: \"sequential_14\"\n",
      "_________________________________________________________________\n",
      " Layer (type)                Output Shape              Param #   \n",
      "=================================================================\n",
      " embedding_14 (Embedding)    (None, 17, 128)           128000    \n",
      "                                                                 \n",
      " spatial_dropout1d_13 (Spati  (None, 17, 128)          0         \n",
      " alDropout1D)                                                    \n",
      "                                                                 \n",
      " lstm_14 (LSTM)              (None, 72)                57888     \n",
      "                                                                 \n",
      " dense_25 (Dense)            (None, 32)                2336      \n",
      "                                                                 \n",
      " dense_26 (Dense)            (None, 16)                528       \n",
      "                                                                 \n",
      " dropout_4 (Dropout)         (None, 16)                0         \n",
      "                                                                 \n",
      " dense_27 (Dense)            (None, 3)                 51        \n",
      "                                                                 \n",
      "=================================================================\n",
      "Total params: 188,803\n",
      "Trainable params: 188,803\n",
      "Non-trainable params: 0\n",
      "_________________________________________________________________\n"
     ]
    }
   ],
   "source": [
    "embed_dim = 128\n",
    "lstm_out = 72\n",
    "\n",
    "model = Sequential()\n",
    "model.add(Embedding(max_features, embed_dim, input_length = x.shape[1]))\n",
    "model.add(SpatialDropout1D(0.5))\n",
    "model.add(LSTM(lstm_out, dropout=0.5, recurrent_dropout=0.5))\n",
    "model.add(Dense(32, activation='relu'))\n",
    "model.add(Dense(16, activation='relu'))\n",
    "model.add(Dropout(0.5))\n",
    "model.add(Dense(3, activation='softmax'))\n",
    "\n",
    "METRICS = [\n",
    "    tf.keras.metrics.CategoricalAccuracy(name='accuracy'),\n",
    "    tf.keras.metrics.Precision(name='precision'),\n",
    "    tf.keras.metrics.Recall(name='recall'),\n",
    "    tf.keras.metrics.AUC(name='auc'),\n",
    "]\n",
    "\n",
    "model.compile(\n",
    "    loss='categorical_crossentropy', \n",
    "    optimizer='adam', \n",
    "    metrics=METRICS\n",
    ")\n",
    "\n",
    "model.summary()"
   ]
  },
  {
   "cell_type": "code",
   "execution_count": 220,
   "id": "09706fc7",
   "metadata": {},
   "outputs": [
    {
     "name": "stdout",
     "output_type": "stream",
     "text": [
      "GPU 0: A100-SXM4-40GB (UUID: GPU-42307e29-459e-0f8a-4ec7-a32ddbc65184)\n"
     ]
    }
   ],
   "source": [
    "!nvidia-smi -L"
   ]
  },
  {
   "cell_type": "markdown",
   "id": "22d906c8",
   "metadata": {},
   "source": [
    "## **Train Model**"
   ]
  },
  {
   "cell_type": "code",
   "execution_count": 221,
   "id": "63eac3b6",
   "metadata": {},
   "outputs": [
    {
     "name": "stdout",
     "output_type": "stream",
     "text": [
      "Epoch 1/10\n",
      "366/366 - 12s - loss: 0.8308 - accuracy: 0.6519 - precision: 0.7746 - recall: 0.4460 - auc: 0.8113 - val_loss: 0.6406 - val_accuracy: 0.7258 - val_precision: 0.8371 - val_recall: 0.6247 - val_auc: 0.8923 - 12s/epoch - 34ms/step\n",
      "Epoch 2/10\n",
      "366/366 - 10s - loss: 0.6810 - accuracy: 0.7246 - precision: 0.8197 - recall: 0.5818 - auc: 0.8793 - val_loss: 0.6072 - val_accuracy: 0.7640 - val_precision: 0.8316 - val_recall: 0.6660 - val_auc: 0.9055 - 10s/epoch - 29ms/step\n",
      "Epoch 3/10\n",
      "366/366 - 10s - loss: 0.6312 - accuracy: 0.7553 - precision: 0.8194 - recall: 0.6452 - auc: 0.8974 - val_loss: 0.5740 - val_accuracy: 0.7729 - val_precision: 0.8143 - val_recall: 0.7292 - val_auc: 0.9142 - 10s/epoch - 28ms/step\n",
      "Epoch 4/10\n",
      "366/366 - 10s - loss: 0.6026 - accuracy: 0.7662 - precision: 0.8168 - recall: 0.6816 - auc: 0.9053 - val_loss: 0.5643 - val_accuracy: 0.7763 - val_precision: 0.8089 - val_recall: 0.7329 - val_auc: 0.9174 - 10s/epoch - 29ms/step\n",
      "Epoch 5/10\n",
      "366/366 - 10s - loss: 0.5865 - accuracy: 0.7688 - precision: 0.8203 - recall: 0.6952 - auc: 0.9104 - val_loss: 0.5571 - val_accuracy: 0.7889 - val_precision: 0.8102 - val_recall: 0.7507 - val_auc: 0.9202 - 10s/epoch - 29ms/step\n",
      "Epoch 6/10\n",
      "366/366 - 10s - loss: 0.5726 - accuracy: 0.7683 - precision: 0.8188 - recall: 0.7040 - auc: 0.9143 - val_loss: 0.5703 - val_accuracy: 0.7824 - val_precision: 0.8205 - val_recall: 0.7322 - val_auc: 0.9185 - 10s/epoch - 29ms/step\n",
      "Epoch 7/10\n",
      "366/366 - 10s - loss: 0.5580 - accuracy: 0.7754 - precision: 0.8255 - recall: 0.7094 - auc: 0.9182 - val_loss: 0.5672 - val_accuracy: 0.7869 - val_precision: 0.8210 - val_recall: 0.7408 - val_auc: 0.9204 - 10s/epoch - 28ms/step\n",
      "Epoch 8/10\n",
      "366/366 - 10s - loss: 0.5585 - accuracy: 0.7766 - precision: 0.8229 - recall: 0.7064 - auc: 0.9188 - val_loss: 0.5602 - val_accuracy: 0.7818 - val_precision: 0.8208 - val_recall: 0.7353 - val_auc: 0.9201 - 10s/epoch - 29ms/step\n",
      "Epoch 9/10\n",
      "366/366 - 11s - loss: 0.5494 - accuracy: 0.7789 - precision: 0.8253 - recall: 0.7182 - auc: 0.9212 - val_loss: 0.5519 - val_accuracy: 0.7835 - val_precision: 0.8261 - val_recall: 0.7363 - val_auc: 0.9212 - 11s/epoch - 29ms/step\n",
      "Epoch 10/10\n",
      "366/366 - 10s - loss: 0.5399 - accuracy: 0.7785 - precision: 0.8299 - recall: 0.7176 - auc: 0.9232 - val_loss: 0.5671 - val_accuracy: 0.7811 - val_precision: 0.8175 - val_recall: 0.7418 - val_auc: 0.9200 - 10s/epoch - 28ms/step\n"
     ]
    }
   ],
   "source": [
    "batch_size = 32\n",
    "\n",
    "history = model.fit(\n",
    "    x_train, y_train, \n",
    "    validation_data=(x_test, y_test),\n",
    "    epochs=10, \n",
    "    batch_size=batch_size, \n",
    "    verbose=2\n",
    ")"
   ]
  },
  {
   "cell_type": "markdown",
   "id": "3fa944ee",
   "metadata": {},
   "source": [
    "## **Model Evaluation**"
   ]
  },
  {
   "cell_type": "code",
   "execution_count": 222,
   "id": "b25419b4",
   "metadata": {},
   "outputs": [
    {
     "name": "stdout",
     "output_type": "stream",
     "text": [
      "92/92 [==============================] - 1s 7ms/step - loss: 0.5671 - accuracy: 0.7811 - precision: 0.8175 - recall: 0.7418 - auc: 0.9200\n"
     ]
    }
   ],
   "source": [
    "loss, accuracy, precision, recall, auc = model.evaluate(x_test, y_test)"
   ]
  },
  {
   "cell_type": "code",
   "execution_count": 223,
   "id": "54bd2f38",
   "metadata": {},
   "outputs": [],
   "source": [
    "history = history.history"
   ]
  },
  {
   "cell_type": "code",
   "execution_count": 224,
   "id": "a0f15468",
   "metadata": {},
   "outputs": [
    {
     "data": {
      "image/png": "[encoded data removed]",
      "text/plain": [
       "<Figure size 432x288 with 1 Axes>"
      ]
     },
     "metadata": {},
     "output_type": "display_data"
    }
   ],
   "source": [
    "plt.plot(history['accuracy'], label=\"Accuracy\", marker = \"o\")\n",
    "plt.plot(history['val_accuracy'], label=\"Val Accuracy\", marker = \"o\")\n",
    "plt.xlabel(\"epoch\")\n",
    "plt.ylabel(\"value\")\n",
    "plt.legend()\n",
    "plt.show()"
   ]
  },
  {
   "cell_type": "markdown",
   "id": "67d9c0b5",
   "metadata": {},
   "source": [
    "## **Prediksi Kalimat**"
   ]
  },
  {
   "cell_type": "code",
   "execution_count": 243,
   "id": "0655e9a2",
   "metadata": {},
   "outputs": [],
   "source": [
    "def predict(comment):\n",
    "    text = [cleansing(comment)]\n",
    "    text = token.texts_to_sequences(text)\n",
    "    text = pad_sequences(text, maxlen=17)\n",
    "\n",
    "    predict = model.predict(text)\n",
    "\n",
    "    if np.argmax(predict) == 0:\n",
    "        print(f'Kalimat \"{comment}\" merupakan Komentar Netral')\n",
    "    elif np.argmax(predict) == 1:\n",
    "        print(f'Kalimat \"{comment}\" merupakan Komentar Negatif')\n",
    "    elif np.argmax(predict) == 2:\n",
    "        print(f'Kalimat \"{comment}\" merupakan Komentar Positif')"
   ]
  },
  {
   "cell_type": "code",
   "execution_count": 244,
   "id": "84ad6544",
   "metadata": {},
   "outputs": [
    {
     "name": "stdout",
     "output_type": "stream",
     "text": [
      "Kalimat \"the flight was great, i enjoying the flight\" merupakan Komentar Positif\n"
     ]
    }
   ],
   "source": [
    "predict('the flight was great, i enjoying the flight')"
   ]
  },
  {
   "cell_type": "code",
   "execution_count": 245,
   "id": "b7b7e68a",
   "metadata": {},
   "outputs": [
    {
     "name": "stdout",
     "output_type": "stream",
     "text": [
      "Kalimat \"the flight is not bad\" merupakan Komentar Netral\n"
     ]
    }
   ],
   "source": [
    "predict('the flight is not bad')"
   ]
  },
  {
   "cell_type": "code",
   "execution_count": 248,
   "id": "3c414e4c",
   "metadata": {},
   "outputs": [
    {
     "name": "stdout",
     "output_type": "stream",
     "text": [
      "Kalimat \"i will not take flight with it again, they cancel my flight so sudden\" merupakan Komentar Negatif\n"
     ]
    }
   ],
   "source": [
    "predict('i will not take flight with it again, they cancel my flight so sudden')"
   ]
  }
 ],
 "metadata": {
  "kernelspec": {
   "display_name": "Python 3 (ipykernel)",
   "language": "python",
   "name": "python3"
  },
  "language_info": {
   "codemirror_mode": {
    "name": "ipython",
    "version": 3
   },
   "file_extension": ".py",
   "mimetype": "text/x-python",
   "name": "python",
   "nbconvert_exporter": "python",
   "pygments_lexer": "ipython3",
   "version": "3.8.12"
  }
 },
 "nbformat": 4,
 "nbformat_minor": 5
}
