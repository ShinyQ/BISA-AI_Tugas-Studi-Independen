{
 "cells": [
  {
   "cell_type": "markdown",
   "id": "e381edc5",
   "metadata": {},
   "source": [
    "## **Install Dan Import Library**"
   ]
  },
  {
   "cell_type": "code",
   "execution_count": null,
   "id": "b6b6497e",
   "metadata": {},
   "outputs": [],
   "source": [
    "!pip install textblob"
   ]
  },
  {
   "cell_type": "code",
   "execution_count": null,
   "id": "66083264",
   "metadata": {},
   "outputs": [],
   "source": [
    "!pip install nltk"
   ]
  },
  {
   "cell_type": "code",
   "execution_count": null,
   "id": "b90feb5d",
   "metadata": {},
   "outputs": [],
   "source": [
    "import re\n",
    "import string\n",
    "import nltk\n",
    "import pandas as pd\n",
    "import numpy as np\n",
    "\n",
    "from sklearn.model_selection import train_test_split\n",
    "from nltk.corpus import stopwords\n",
    "from nltk.tokenize import word_tokenize\n",
    "from textblob.classifiers import NaiveBayesClassifier\n",
    "\n",
    "nltk.download('punkt')\n",
    "nltk.download('wordnet')\n",
    "nltk.download('stopwords')"
   ]
  },
  {
   "cell_type": "markdown",
   "id": "3ffccb50",
   "metadata": {},
   "source": [
    "## **Menyimpan Dataset**"
   ]
  },
  {
   "cell_type": "markdown",
   "id": "f9b26b02",
   "metadata": {},
   "source": [
    "Source: https://github.com/dD2405/Twitter_Sentiment_Analysis\n",
    "\n",
    "Label:\n",
    "- 0 : Non Hatespeech\n",
    "- 1 : Hatespeech"
   ]
  },
  {
   "cell_type": "code",
   "execution_count": 65,
   "id": "0595ca80",
   "metadata": {},
   "outputs": [
    {
     "data": {
      "text/html": [
       "<div>\n",
       "<style scoped>\n",
       "    .dataframe tbody tr th:only-of-type {\n",
       "        vertical-align: middle;\n",
       "    }\n",
       "\n",
       "    .dataframe tbody tr th {\n",
       "        vertical-align: top;\n",
       "    }\n",
       "\n",
       "    .dataframe thead th {\n",
       "        text-align: right;\n",
       "    }\n",
       "</style>\n",
       "<table border=\"1\" class=\"dataframe\">\n",
       "  <thead>\n",
       "    <tr style=\"text-align: right;\">\n",
       "      <th></th>\n",
       "      <th>label</th>\n",
       "      <th>tweet</th>\n",
       "    </tr>\n",
       "  </thead>\n",
       "  <tbody>\n",
       "    <tr>\n",
       "      <th>11765</th>\n",
       "      <td>0</td>\n",
       "      <td>#ty for the #recent #follow @user @user   to #...</td>\n",
       "    </tr>\n",
       "    <tr>\n",
       "      <th>6520</th>\n",
       "      <td>0</td>\n",
       "      <td>check out this new trending #funny #gif !  , e...</td>\n",
       "    </tr>\n",
       "    <tr>\n",
       "      <th>17341</th>\n",
       "      <td>0</td>\n",
       "      <td>everymanager:  thesecret: be   now. #feelgood ...</td>\n",
       "    </tr>\n",
       "    <tr>\n",
       "      <th>22664</th>\n",
       "      <td>0</td>\n",
       "      <td>@user we just gotta do what we gotta do...</td>\n",
       "    </tr>\n",
       "    <tr>\n",
       "      <th>7379</th>\n",
       "      <td>1</td>\n",
       "      <td>@user no it doesn't, germans, even fascists ra...</td>\n",
       "    </tr>\n",
       "  </tbody>\n",
       "</table>\n",
       "</div>"
      ],
      "text/plain": [
       "       label                                              tweet\n",
       "11765      0  #ty for the #recent #follow @user @user   to #...\n",
       "6520       0  check out this new trending #funny #gif !  , e...\n",
       "17341      0  everymanager:  thesecret: be   now. #feelgood ...\n",
       "22664      0        @user we just gotta do what we gotta do... \n",
       "7379       1  @user no it doesn't, germans, even fascists ra..."
      ]
     },
     "execution_count": 65,
     "metadata": {},
     "output_type": "execute_result"
    }
   ],
   "source": [
    "df = pd.read_csv('https://raw.githubusercontent.com/dD2405/Twitter_Sentiment_Analysis/master/train.csv')\n",
    "df.drop('id', axis=1, inplace=True)\n",
    "df.sample(5)"
   ]
  },
  {
   "cell_type": "markdown",
   "id": "baa9bcf9",
   "metadata": {},
   "source": [
    "## **Preprocessing Data**"
   ]
  },
  {
   "cell_type": "code",
   "execution_count": 40,
   "id": "1218a2f5",
   "metadata": {},
   "outputs": [
    {
     "name": "stdout",
     "output_type": "stream",
     "text": [
      "Done Decontracted\n",
      "Done Tokenizing\n",
      "Done Lemmatizing\n",
      "Done Filtering\n"
     ]
    }
   ],
   "source": [
    "lemmatizer = nltk.stem.WordNetLemmatizer()\n",
    "stop_words = set(stopwords.words('english'))\n",
    "\n",
    "def tokenizing(text):\n",
    "    # Mengubah setiap kata menjadi lowercase\n",
    "    text =  text.lower()\n",
    "\n",
    "    # Menghapus Link Dengan Pattern http/https dan www\n",
    "    text = re.sub(r'http\\S+', '', text)\n",
    "    text = re.sub('(@\\w+|#\\w+)', '', text)\n",
    "\n",
    "    # Menghapus Tag HTML\n",
    "    text = re.sub('<.*?>', '', text)\n",
    "\n",
    "    # Menghapus Tanda Baca Seperti Titik Dan Koma\n",
    "    text = text.translate(str.maketrans(' ', ' ', string.punctuation))\n",
    "\n",
    "    # Menghapus Karakter Selain Huruf a-z dan A-Z\n",
    "    text = re.sub('[^a-zA-Z]', ' ', text)\n",
    "\n",
    "    # Mengganti baris baru (enter) dengan spasi\n",
    "    text = re.sub(\"\\n\", \" \", text)\n",
    "\n",
    "    # Menghapus Karakter Berulang (Contoh: Horeeee!!!! menjadi Hore!)\n",
    "    text = re.sub(r'(\\w)(\\1{2,})', r\"\\1\", text)\n",
    "\n",
    "    # Menghapus 1 Karakter Terpisah\n",
    "    text = re.sub(r\"\\b[a-zA-Z]\\b\", \"\", text)\n",
    "\n",
    "    # Menghapus Spasi Yang Lebih Dari Satu\n",
    "    text = re.sub('(s{2,})', ' ', text)\n",
    "\n",
    "    # Mengembalikan Hasil Tokenizing Text\n",
    "    return text\n",
    "\n",
    "\n",
    "# Memisahkan Kata Singkatan (Abbreviaton). Contoh won't -> will not \n",
    "def decontracted(text):\n",
    "    text = re.sub(r\"n\\'t\", \" not\", text)\n",
    "    text = re.sub(r\"\\'re\", \" are\", text)\n",
    "    text = re.sub(r\"\\'s\", \" is\", text)\n",
    "    text = re.sub(r\"\\'d\", \" would\", text)\n",
    "    text = re.sub(r\"\\'ll\", \" will\", text)\n",
    "    text = re.sub(r\"\\'t\", \" not\", text)\n",
    "    text = re.sub(r\"\\'ve\", \" have\", text)\n",
    "    text = re.sub(r\"\\'m\", \" am\", text)\n",
    "\n",
    "    return text\n",
    "\n",
    "\n",
    "# Lematisasi adalah teknik  untuk mereduksi kata menjadi Lemma atau bentuk dasar dari sebuah kata\n",
    "# Contoh:  better -> good\n",
    "def lemmatizing_text(text):\n",
    "    final_text = ''\n",
    "    words = word_tokenize(text)\n",
    "\n",
    "    for w in words:\n",
    "        final_text = final_text + ' ' + lemmatizer.lemmatize(w)\n",
    "\n",
    "    return final_text\n",
    "        \n",
    "\n",
    "# Menghapus kata yang mengandung judul topik dan kata yang terdapat pada stopwords nltk \n",
    "def filtering_text(text):\n",
    "    temp_text_split = []\n",
    "    text_split = text.split(' ')\n",
    "\n",
    "    for i in range(len(text_split)):\n",
    "        if text_split[i] not in stop_words:\n",
    "            temp_text_split.append(text_split[i])\n",
    "    \n",
    "    temp_text_split = list(set(temp_text_split))\n",
    "    final_text = ' '.join(temp_text_split)\n",
    "    \n",
    "    return final_text.lstrip()\n",
    "\n",
    "# Proses data cleansing setiap text\n",
    "df['tweet'] = df['tweet'].apply(decontracted)\n",
    "print(\"Done Decontracted\")\n",
    "\n",
    "df['tweet'] = df['tweet'].apply(tokenizing)\n",
    "print(\"Done Tokenizing\")\n",
    "\n",
    "df['tweet'] = df['tweet'].apply(lemmatizing_text)\n",
    "print(\"Done Lemmatizing\")\n",
    "\n",
    "df['tweet'] = df['tweet'].apply(filtering_text)\n",
    "print(\"Done Filtering\")"
   ]
  },
  {
   "cell_type": "markdown",
   "id": "2c11b242",
   "metadata": {},
   "source": [
    "## **Menghapus Data Kosong**"
   ]
  },
  {
   "cell_type": "code",
   "execution_count": 41,
   "id": "40f955bd",
   "metadata": {},
   "outputs": [
    {
     "data": {
      "text/plain": [
       "label      0\n",
       "tweet    560\n",
       "dtype: int64"
      ]
     },
     "execution_count": 41,
     "metadata": {},
     "output_type": "execute_result"
    }
   ],
   "source": [
    "df = df.replace(r'^\\s*$', np.NaN, regex=True)\n",
    "df.isna().sum()"
   ]
  },
  {
   "cell_type": "code",
   "execution_count": 42,
   "id": "14354f99",
   "metadata": {},
   "outputs": [
    {
     "data": {
      "text/plain": [
       "label    0\n",
       "tweet    0\n",
       "dtype: int64"
      ]
     },
     "execution_count": 42,
     "metadata": {},
     "output_type": "execute_result"
    }
   ],
   "source": [
    "df.dropna(inplace=True)\n",
    "df.isna().sum()"
   ]
  },
  {
   "cell_type": "markdown",
   "id": "9eece219",
   "metadata": {},
   "source": [
    "## Split **Data Train Dan Test**"
   ]
  },
  {
   "cell_type": "code",
   "execution_count": 43,
   "id": "3c53af68",
   "metadata": {},
   "outputs": [],
   "source": [
    "train, test = train_test_split(df, test_size=0.2)"
   ]
  },
  {
   "cell_type": "code",
   "execution_count": 44,
   "id": "ededd4e1",
   "metadata": {},
   "outputs": [
    {
     "data": {
      "text/plain": [
       "[('love know', 0),\n",
       " ('two owl', 0),\n",
       " ('relationship sometimes heritage crushed like feel', 0),\n",
       " ('seriously dead turning world nightclub injured shooting', 0),\n",
       " ('breakfast kitchen bihday lady corey', 0)]"
      ]
     },
     "execution_count": 44,
     "metadata": {},
     "output_type": "execute_result"
    }
   ],
   "source": [
    "first_column = train.pop('tweet')\n",
    "train.insert(0, 'tweet', first_column)\n",
    "\n",
    "df_train = train.to_records(index=False)\n",
    "df_train = list(df_train)\n",
    "\n",
    "df_train[50:55]"
   ]
  },
  {
   "cell_type": "markdown",
   "id": "d6f73a56",
   "metadata": {},
   "source": [
    "## **Melatih Model**"
   ]
  },
  {
   "cell_type": "code",
   "execution_count": 45,
   "id": "86f20a31",
   "metadata": {},
   "outputs": [],
   "source": [
    "cl = NaiveBayesClassifier(df_train)"
   ]
  },
  {
   "cell_type": "code",
   "execution_count": 46,
   "id": "e6aab9b5",
   "metadata": {},
   "outputs": [
    {
     "data": {
      "text/plain": [
       "[('stephen rest peace keshi', 0),\n",
       " ('challenge thankful', 0),\n",
       " ('follow thank twitfox', 0),\n",
       " ('culpable ww exists systemic dismantle deeply entrenched feel', 1),\n",
       " ('libtard might', 1)]"
      ]
     },
     "execution_count": 46,
     "metadata": {},
     "output_type": "execute_result"
    }
   ],
   "source": [
    "first_column = test.pop('tweet')\n",
    "test.insert(0, 'tweet', first_column)\n",
    "\n",
    "df_test = test.to_records(index=False)\n",
    "df_test = list(df_test)\n",
    "\n",
    "df_test[50:55] "
   ]
  },
  {
   "cell_type": "markdown",
   "id": "e612c1c2",
   "metadata": {},
   "source": [
    "## **Evaluasi Model**"
   ]
  },
  {
   "cell_type": "code",
   "execution_count": 47,
   "id": "0c0e428a",
   "metadata": {},
   "outputs": [
    {
     "data": {
      "text/plain": [
       "0.9410921827734438"
      ]
     },
     "execution_count": 47,
     "metadata": {},
     "output_type": "execute_result"
    }
   ],
   "source": [
    "cl.accuracy(df_test)"
   ]
  },
  {
   "cell_type": "code",
   "execution_count": 48,
   "id": "ecb58868",
   "metadata": {},
   "outputs": [
    {
     "data": {
      "text/plain": [
       "0"
      ]
     },
     "execution_count": 48,
     "metadata": {},
     "output_type": "execute_result"
    }
   ],
   "source": [
    "cl.classify('i am thankful for coffee')"
   ]
  },
  {
   "cell_type": "code",
   "execution_count": 51,
   "id": "ed0865ad",
   "metadata": {},
   "outputs": [
    {
     "data": {
      "text/plain": [
       "1"
      ]
     },
     "execution_count": 51,
     "metadata": {},
     "output_type": "execute_result"
    }
   ],
   "source": [
    "cl.classify(\"culpable exists systemic dismantle deeply entrenched feel\")"
   ]
  }
 ],
 "metadata": {
  "kernelspec": {
   "display_name": "Python 3 (ipykernel)",
   "language": "python",
   "name": "python3"
  },
  "language_info": {
   "codemirror_mode": {
    "name": "ipython",
    "version": 3
   },
   "file_extension": ".py",
   "mimetype": "text/x-python",
   "name": "python",
   "nbconvert_exporter": "python",
   "pygments_lexer": "ipython3",
   "version": "3.8.12"
  }
 },
 "nbformat": 4,
 "nbformat_minor": 5
}
